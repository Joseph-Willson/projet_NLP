{
 "cells": [
  {
   "cell_type": "markdown",
   "metadata": {},
   "source": [
    "## Import des bibliothèques "
   ]
  },
  {
   "cell_type": "code",
   "execution_count": 28,
   "metadata": {},
   "outputs": [],
   "source": [
    "import pandas as pd\n",
    "import matplotlib.pyplot as plt\n",
    "\n",
    "import numpy as np\n",
    "from sklearn.naive_bayes import MultinomialNB\n",
    "from sklearn.feature_extraction.text import CountVectorizer\n",
    "from collections import Counter\n",
    "from sklearn.model_selection import train_test_split\n",
    "from sklearn.feature_extraction.text import TfidfTransformer\n"
   ]
  },
  {
   "cell_type": "markdown",
   "metadata": {},
   "source": [
    "### Chargement des dataframe pour le projet"
   ]
  },
  {
   "cell_type": "code",
   "execution_count": 29,
   "metadata": {},
   "outputs": [],
   "source": [
    "x_train = pd.read_csv(r\"./data/x_train.csv\")\n",
    "y_train = pd.read_csv(r\"./data/y_train.csv\")\n",
    "x_test = pd.read_csv(r\"./data/x_test.csv\")"
   ]
  },
  {
   "cell_type": "markdown",
   "metadata": {},
   "source": [
    "### Début de l'analyse des dataframes"
   ]
  },
  {
   "cell_type": "code",
   "execution_count": 30,
   "metadata": {},
   "outputs": [
    {
     "name": "stdout",
     "output_type": "stream",
     "text": [
      "(8028, 2)\n",
      "(8028, 2)\n",
      "(2035, 2)\n"
     ]
    }
   ],
   "source": [
    "print(x_train.shape)\n",
    "print(y_train.shape)\n",
    "print(x_test.shape)"
   ]
  },
  {
   "cell_type": "code",
   "execution_count": 31,
   "metadata": {},
   "outputs": [
    {
     "data": {
      "text/html": [
       "<div>\n",
       "<style scoped>\n",
       "    .dataframe tbody tr th:only-of-type {\n",
       "        vertical-align: middle;\n",
       "    }\n",
       "\n",
       "    .dataframe tbody tr th {\n",
       "        vertical-align: top;\n",
       "    }\n",
       "\n",
       "    .dataframe thead th {\n",
       "        text-align: right;\n",
       "    }\n",
       "</style>\n",
       "<table border=\"1\" class=\"dataframe\">\n",
       "  <thead>\n",
       "    <tr style=\"text-align: right;\">\n",
       "      <th></th>\n",
       "      <th>ID</th>\n",
       "      <th>question</th>\n",
       "    </tr>\n",
       "  </thead>\n",
       "  <tbody>\n",
       "    <tr>\n",
       "      <th>0</th>\n",
       "      <td>0</td>\n",
       "      <td>bonjour,  je m suis trompé de forum pour ma qu...</td>\n",
       "    </tr>\n",
       "    <tr>\n",
       "      <th>1</th>\n",
       "      <td>1</td>\n",
       "      <td>est ce que le motilium me soulagera contre les...</td>\n",
       "    </tr>\n",
       "    <tr>\n",
       "      <th>2</th>\n",
       "      <td>2</td>\n",
       "      <td>mon médecin m'a prescrit adenyl. au 2ème cache...</td>\n",
       "    </tr>\n",
       "    <tr>\n",
       "      <th>3</th>\n",
       "      <td>3</td>\n",
       "      <td>Est-ce qu'il existe une forme adaptée aux enfa...</td>\n",
       "    </tr>\n",
       "    <tr>\n",
       "      <th>4</th>\n",
       "      <td>4</td>\n",
       "      <td>mon  medecin  me soigne  pour  une  rhino  pha...</td>\n",
       "    </tr>\n",
       "  </tbody>\n",
       "</table>\n",
       "</div>"
      ],
      "text/plain": [
       "   ID                                           question\n",
       "0   0  bonjour,  je m suis trompé de forum pour ma qu...\n",
       "1   1  est ce que le motilium me soulagera contre les...\n",
       "2   2  mon médecin m'a prescrit adenyl. au 2ème cache...\n",
       "3   3  Est-ce qu'il existe une forme adaptée aux enfa...\n",
       "4   4  mon  medecin  me soigne  pour  une  rhino  pha..."
      ]
     },
     "execution_count": 31,
     "metadata": {},
     "output_type": "execute_result"
    }
   ],
   "source": [
    "x_train.head()"
   ]
  },
  {
   "cell_type": "code",
   "execution_count": 32,
   "metadata": {},
   "outputs": [
    {
     "data": {
      "text/html": [
       "<div>\n",
       "<style scoped>\n",
       "    .dataframe tbody tr th:only-of-type {\n",
       "        vertical-align: middle;\n",
       "    }\n",
       "\n",
       "    .dataframe tbody tr th {\n",
       "        vertical-align: top;\n",
       "    }\n",
       "\n",
       "    .dataframe thead th {\n",
       "        text-align: right;\n",
       "    }\n",
       "</style>\n",
       "<table border=\"1\" class=\"dataframe\">\n",
       "  <thead>\n",
       "    <tr style=\"text-align: right;\">\n",
       "      <th></th>\n",
       "      <th>ID</th>\n",
       "      <th>intention</th>\n",
       "    </tr>\n",
       "  </thead>\n",
       "  <tbody>\n",
       "    <tr>\n",
       "      <th>0</th>\n",
       "      <td>0</td>\n",
       "      <td>28</td>\n",
       "    </tr>\n",
       "    <tr>\n",
       "      <th>1</th>\n",
       "      <td>1</td>\n",
       "      <td>31</td>\n",
       "    </tr>\n",
       "    <tr>\n",
       "      <th>2</th>\n",
       "      <td>2</td>\n",
       "      <td>28</td>\n",
       "    </tr>\n",
       "    <tr>\n",
       "      <th>3</th>\n",
       "      <td>3</td>\n",
       "      <td>44</td>\n",
       "    </tr>\n",
       "    <tr>\n",
       "      <th>4</th>\n",
       "      <td>4</td>\n",
       "      <td>31</td>\n",
       "    </tr>\n",
       "  </tbody>\n",
       "</table>\n",
       "</div>"
      ],
      "text/plain": [
       "   ID  intention\n",
       "0   0         28\n",
       "1   1         31\n",
       "2   2         28\n",
       "3   3         44\n",
       "4   4         31"
      ]
     },
     "execution_count": 32,
     "metadata": {},
     "output_type": "execute_result"
    }
   ],
   "source": [
    "y_train.head()"
   ]
  },
  {
   "cell_type": "code",
   "execution_count": 33,
   "metadata": {},
   "outputs": [
    {
     "data": {
      "text/html": [
       "<div>\n",
       "<style scoped>\n",
       "    .dataframe tbody tr th:only-of-type {\n",
       "        vertical-align: middle;\n",
       "    }\n",
       "\n",
       "    .dataframe tbody tr th {\n",
       "        vertical-align: top;\n",
       "    }\n",
       "\n",
       "    .dataframe thead th {\n",
       "        text-align: right;\n",
       "    }\n",
       "</style>\n",
       "<table border=\"1\" class=\"dataframe\">\n",
       "  <thead>\n",
       "    <tr style=\"text-align: right;\">\n",
       "      <th></th>\n",
       "      <th>ID</th>\n",
       "      <th>question</th>\n",
       "    </tr>\n",
       "  </thead>\n",
       "  <tbody>\n",
       "    <tr>\n",
       "      <th>0</th>\n",
       "      <td>8028</td>\n",
       "      <td>autisme-homéopathie-antidote vaccins ??</td>\n",
       "    </tr>\n",
       "    <tr>\n",
       "      <th>1</th>\n",
       "      <td>8029</td>\n",
       "      <td>Quel topique appliquer pour dermatite atopique...</td>\n",
       "    </tr>\n",
       "    <tr>\n",
       "      <th>2</th>\n",
       "      <td>8030</td>\n",
       "      <td>traitement kystes avec diane 35?</td>\n",
       "    </tr>\n",
       "    <tr>\n",
       "      <th>3</th>\n",
       "      <td>8031</td>\n",
       "      <td>je souffre d'insuffisance veineuse (acrocyanos...</td>\n",
       "    </tr>\n",
       "    <tr>\n",
       "      <th>4</th>\n",
       "      <td>8032</td>\n",
       "      <td>je suis enceinte depuis 1 mois, est ce que les...</td>\n",
       "    </tr>\n",
       "  </tbody>\n",
       "</table>\n",
       "</div>"
      ],
      "text/plain": [
       "     ID                                           question\n",
       "0  8028            autisme-homéopathie-antidote vaccins ??\n",
       "1  8029  Quel topique appliquer pour dermatite atopique...\n",
       "2  8030                   traitement kystes avec diane 35?\n",
       "3  8031  je souffre d'insuffisance veineuse (acrocyanos...\n",
       "4  8032  je suis enceinte depuis 1 mois, est ce que les..."
      ]
     },
     "execution_count": 33,
     "metadata": {},
     "output_type": "execute_result"
    }
   ],
   "source": [
    "x_test.head()"
   ]
  },
  {
   "cell_type": "markdown",
   "metadata": {},
   "source": [
    "#### Ragard des types pour chaque variable"
   ]
  },
  {
   "cell_type": "code",
   "execution_count": 34,
   "metadata": {},
   "outputs": [
    {
     "data": {
      "text/plain": [
       "ID           int64\n",
       "question    object\n",
       "dtype: object"
      ]
     },
     "execution_count": 34,
     "metadata": {},
     "output_type": "execute_result"
    }
   ],
   "source": [
    "x_train.dtypes"
   ]
  },
  {
   "cell_type": "code",
   "execution_count": 35,
   "metadata": {},
   "outputs": [
    {
     "data": {
      "text/plain": [
       "ID           int64\n",
       "intention    int64\n",
       "dtype: object"
      ]
     },
     "execution_count": 35,
     "metadata": {},
     "output_type": "execute_result"
    }
   ],
   "source": [
    "y_train.dtypes"
   ]
  },
  {
   "cell_type": "code",
   "execution_count": 36,
   "metadata": {},
   "outputs": [
    {
     "data": {
      "text/plain": [
       "ID           int64\n",
       "question    object\n",
       "dtype: object"
      ]
     },
     "execution_count": 36,
     "metadata": {},
     "output_type": "execute_result"
    }
   ],
   "source": [
    "x_test.dtypes"
   ]
  },
  {
   "cell_type": "markdown",
   "metadata": {},
   "source": [
    "#### vérification de la présence de doublons"
   ]
  },
  {
   "cell_type": "code",
   "execution_count": 37,
   "metadata": {},
   "outputs": [
    {
     "name": "stdout",
     "output_type": "stream",
     "text": [
      "Nombre de valeur unique pour chaque variable de la data frame x_train : \n",
      "ID          8028\n",
      "question    7655\n",
      "dtype: int64\n",
      "Nombre de valeur unique pour chaque variable de la data frame y_train : \n",
      "ID           8028\n",
      "intention      51\n",
      "dtype: int64\n"
     ]
    }
   ],
   "source": [
    "print(\"Nombre de valeur unique pour chaque variable de la data frame x_train : \")\n",
    "print(x_train.nunique())\n",
    "\n",
    "print(\"Nombre de valeur unique pour chaque variable de la data frame y_train : \")\n",
    "print(y_train.nunique())\n"
   ]
  },
  {
   "cell_type": "markdown",
   "metadata": {},
   "source": [
    "#### Nombre de valeur manquantes"
   ]
  },
  {
   "cell_type": "code",
   "execution_count": 38,
   "metadata": {},
   "outputs": [
    {
     "name": "stdout",
     "output_type": "stream",
     "text": [
      "Nombre de valeur manquantes pour chaque variable de la data frame x_train : \n",
      "ID          0\n",
      "question    0\n",
      "dtype: int64\n",
      "Nombre de valeur manquantes pour chaque variable de la data frame y_train : \n",
      "ID           0\n",
      "intention    0\n",
      "dtype: int64\n",
      "Nombre de valeur manquantes pour chaque variable de la data frame x_test : \n",
      "ID          0\n",
      "question    0\n",
      "dtype: int64\n"
     ]
    }
   ],
   "source": [
    "print(\"Nombre de valeur manquantes pour chaque variable de la data frame x_train : \")\n",
    "print(x_train.isna().sum())\n",
    "\n",
    "print(\"Nombre de valeur manquantes pour chaque variable de la data frame y_train : \")\n",
    "print(y_train.isna().sum())\n",
    "\n",
    "print(\"Nombre de valeur manquantes pour chaque variable de la data frame x_test : \")\n",
    "print(x_test.isna().sum())\n"
   ]
  },
  {
   "cell_type": "markdown",
   "metadata": {},
   "source": [
    "#### Ocuurence de chaque question et de chaque intention"
   ]
  },
  {
   "cell_type": "code",
   "execution_count": 39,
   "metadata": {},
   "outputs": [
    {
     "name": "stdout",
     "output_type": "stream",
     "text": [
      "Nombre de valeur manquantes pour chaque variable de la data frame y_train : \n",
      "intention\n",
      "28    1796\n",
      "31     565\n",
      "44     560\n",
      "22     461\n",
      "48     387\n",
      "34     382\n",
      "32     321\n",
      "14     317\n",
      "42     315\n",
      "23     208\n",
      "0      204\n",
      "11     195\n",
      "21     180\n",
      "33     144\n",
      "8      134\n",
      "37     126\n",
      "38     120\n",
      "13     119\n",
      "27     104\n",
      "5      102\n",
      "43      91\n",
      "12      89\n",
      "47      82\n",
      "29      77\n",
      "4       76\n",
      "26      72\n",
      "10      68\n",
      "24      64\n",
      "9       54\n",
      "30      52\n",
      "45      50\n",
      "35      50\n",
      "41      45\n",
      "46      45\n",
      "39      40\n",
      "50      33\n",
      "25      30\n",
      "6       26\n",
      "36      25\n",
      "1       23\n",
      "18      23\n",
      "15      23\n",
      "49      22\n",
      "2       22\n",
      "7       20\n",
      "19      20\n",
      "20      19\n",
      "16      17\n",
      "17      15\n",
      "3        8\n",
      "40       7\n",
      "Name: count, dtype: int64\n"
     ]
    }
   ],
   "source": [
    "#print(\"Nombre de valeur manquantes pour chaque variable de la data frame x_train : \")\n",
    "#print(x_train[].value_counts())\n",
    "\n",
    "print(\"Nombre de valeur manquantes pour chaque variable de la data frame y_train : \")\n",
    "print(y_train[\"intention\"].value_counts())\n"
   ]
  },
  {
   "cell_type": "code",
   "execution_count": 40,
   "metadata": {},
   "outputs": [
    {
     "name": "stdout",
     "output_type": "stream",
     "text": [
      "Nombre de valeur manquantes pour chaque variable de la data frame y_train : \n",
      "intention\n",
      "28    22.371699\n",
      "31     7.037867\n",
      "44     6.975585\n",
      "22     5.742402\n",
      "48     4.820628\n",
      "34     4.758346\n",
      "32     3.998505\n",
      "14     3.948680\n",
      "42     3.923767\n",
      "23     2.590932\n",
      "0      2.541106\n",
      "11     2.428999\n",
      "21     2.242152\n",
      "33     1.793722\n",
      "8      1.669158\n",
      "37     1.569507\n",
      "38     1.494768\n",
      "13     1.482312\n",
      "27     1.295466\n",
      "5      1.270553\n",
      "43     1.133533\n",
      "12     1.108620\n",
      "47     1.021425\n",
      "29     0.959143\n",
      "4      0.946687\n",
      "26     0.896861\n",
      "10     0.847035\n",
      "24     0.797210\n",
      "9      0.672646\n",
      "30     0.647733\n",
      "45     0.622820\n",
      "35     0.622820\n",
      "41     0.560538\n",
      "46     0.560538\n",
      "39     0.498256\n",
      "50     0.411061\n",
      "25     0.373692\n",
      "6      0.323866\n",
      "36     0.311410\n",
      "1      0.286497\n",
      "18     0.286497\n",
      "15     0.286497\n",
      "49     0.274041\n",
      "2      0.274041\n",
      "7      0.249128\n",
      "19     0.249128\n",
      "20     0.236672\n",
      "16     0.211759\n",
      "17     0.186846\n",
      "3      0.099651\n",
      "40     0.087195\n",
      "Name: proportion, dtype: float64\n"
     ]
    }
   ],
   "source": [
    "print(\"Nombre de valeur manquantes pour chaque variable de la data frame y_train : \")\n",
    "print(y_train[\"intention\"].value_counts(normalize=True) * 100)"
   ]
  },
  {
   "cell_type": "markdown",
   "metadata": {},
   "source": [
    "#### Affichage d'un histogrammme pour voir le noombre d'occurence de chaque intention\n",
    "##### on peut s'apercevoir que l'intention 28 revient très souvent et pourrait biaisé le modèle"
   ]
  },
  {
   "cell_type": "code",
   "execution_count": 41,
   "metadata": {},
   "outputs": [
    {
     "data": {
      "image/png": "[encoded data removed]",
      "text/plain": [
       "<Figure size 640x480 with 1 Axes>"
      ]
     },
     "metadata": {},
     "output_type": "display_data"
    }
   ],
   "source": [
    "plt.bar(y_train[\"intention\"].value_counts().index, y_train[\"intention\"].value_counts())\n",
    "plt.xlabel(\"intention\")\n",
    "plt.ylabel(\"Nombre d'occurence\")\n",
    "plt.title(\"Nombre d'occurence par intention\")\n",
    "plt.show()"
   ]
  },
  {
   "cell_type": "markdown",
   "metadata": {},
   "source": [
    "##### Merging des dataframe x_train et y_train car nous en avons besoin pour l'entrainement du modèle de classification NLP"
   ]
  },
  {
   "cell_type": "code",
   "execution_count": 42,
   "metadata": {},
   "outputs": [],
   "source": [
    "data = pd.merge(x_train, y_train, on = \"ID\", how = \"inner\")"
   ]
  },
  {
   "cell_type": "code",
   "execution_count": 43,
   "metadata": {},
   "outputs": [
    {
     "data": {
      "text/html": [
       "<div>\n",
       "<style scoped>\n",
       "    .dataframe tbody tr th:only-of-type {\n",
       "        vertical-align: middle;\n",
       "    }\n",
       "\n",
       "    .dataframe tbody tr th {\n",
       "        vertical-align: top;\n",
       "    }\n",
       "\n",
       "    .dataframe thead th {\n",
       "        text-align: right;\n",
       "    }\n",
       "</style>\n",
       "<table border=\"1\" class=\"dataframe\">\n",
       "  <thead>\n",
       "    <tr style=\"text-align: right;\">\n",
       "      <th></th>\n",
       "      <th>ID</th>\n",
       "      <th>question</th>\n",
       "      <th>intention</th>\n",
       "    </tr>\n",
       "  </thead>\n",
       "  <tbody>\n",
       "    <tr>\n",
       "      <th>0</th>\n",
       "      <td>0</td>\n",
       "      <td>bonjour,  je m suis trompé de forum pour ma qu...</td>\n",
       "      <td>28</td>\n",
       "    </tr>\n",
       "    <tr>\n",
       "      <th>1</th>\n",
       "      <td>1</td>\n",
       "      <td>est ce que le motilium me soulagera contre les...</td>\n",
       "      <td>31</td>\n",
       "    </tr>\n",
       "    <tr>\n",
       "      <th>2</th>\n",
       "      <td>2</td>\n",
       "      <td>mon médecin m'a prescrit adenyl. au 2ème cache...</td>\n",
       "      <td>28</td>\n",
       "    </tr>\n",
       "    <tr>\n",
       "      <th>3</th>\n",
       "      <td>3</td>\n",
       "      <td>Est-ce qu'il existe une forme adaptée aux enfa...</td>\n",
       "      <td>44</td>\n",
       "    </tr>\n",
       "    <tr>\n",
       "      <th>4</th>\n",
       "      <td>4</td>\n",
       "      <td>mon  medecin  me soigne  pour  une  rhino  pha...</td>\n",
       "      <td>31</td>\n",
       "    </tr>\n",
       "    <tr>\n",
       "      <th>...</th>\n",
       "      <td>...</td>\n",
       "      <td>...</td>\n",
       "      <td>...</td>\n",
       "    </tr>\n",
       "    <tr>\n",
       "      <th>8023</th>\n",
       "      <td>8023</td>\n",
       "      <td>en combien de temps un antibio n'est plus prés...</td>\n",
       "      <td>41</td>\n",
       "    </tr>\n",
       "    <tr>\n",
       "      <th>8024</th>\n",
       "      <td>8024</td>\n",
       "      <td>j'ai fait vacciner de revaxis mon fils 'année ...</td>\n",
       "      <td>48</td>\n",
       "    </tr>\n",
       "    <tr>\n",
       "      <th>8025</th>\n",
       "      <td>8025</td>\n",
       "      <td>Un patient m’a ramené une ordonnance de 3x1g d...</td>\n",
       "      <td>42</td>\n",
       "    </tr>\n",
       "    <tr>\n",
       "      <th>8026</th>\n",
       "      <td>8026</td>\n",
       "      <td>prise pillule du lendemain, faire une pause en...</td>\n",
       "      <td>14</td>\n",
       "    </tr>\n",
       "    <tr>\n",
       "      <th>8027</th>\n",
       "      <td>8027</td>\n",
       "      <td>advil médicament?</td>\n",
       "      <td>22</td>\n",
       "    </tr>\n",
       "  </tbody>\n",
       "</table>\n",
       "<p>8028 rows × 3 columns</p>\n",
       "</div>"
      ],
      "text/plain": [
       "        ID                                           question  intention\n",
       "0        0  bonjour,  je m suis trompé de forum pour ma qu...         28\n",
       "1        1  est ce que le motilium me soulagera contre les...         31\n",
       "2        2  mon médecin m'a prescrit adenyl. au 2ème cache...         28\n",
       "3        3  Est-ce qu'il existe une forme adaptée aux enfa...         44\n",
       "4        4  mon  medecin  me soigne  pour  une  rhino  pha...         31\n",
       "...    ...                                                ...        ...\n",
       "8023  8023  en combien de temps un antibio n'est plus prés...         41\n",
       "8024  8024  j'ai fait vacciner de revaxis mon fils 'année ...         48\n",
       "8025  8025  Un patient m’a ramené une ordonnance de 3x1g d...         42\n",
       "8026  8026  prise pillule du lendemain, faire une pause en...         14\n",
       "8027  8027                                  advil médicament?         22\n",
       "\n",
       "[8028 rows x 3 columns]"
      ]
     },
     "execution_count": 43,
     "metadata": {},
     "output_type": "execute_result"
    }
   ],
   "source": [
    "data"
   ]
  },
  {
   "cell_type": "code",
   "execution_count": 44,
   "metadata": {},
   "outputs": [],
   "source": [
    "ligne_intentions_28 = data.loc[data['intention'] == 28]"
   ]
  },
  {
   "cell_type": "code",
   "execution_count": 45,
   "metadata": {},
   "outputs": [
    {
     "data": {
      "text/html": [
       "<div>\n",
       "<style scoped>\n",
       "    .dataframe tbody tr th:only-of-type {\n",
       "        vertical-align: middle;\n",
       "    }\n",
       "\n",
       "    .dataframe tbody tr th {\n",
       "        vertical-align: top;\n",
       "    }\n",
       "\n",
       "    .dataframe thead th {\n",
       "        text-align: right;\n",
       "    }\n",
       "</style>\n",
       "<table border=\"1\" class=\"dataframe\">\n",
       "  <thead>\n",
       "    <tr style=\"text-align: right;\">\n",
       "      <th></th>\n",
       "      <th>ID</th>\n",
       "      <th>question</th>\n",
       "      <th>intention</th>\n",
       "    </tr>\n",
       "  </thead>\n",
       "  <tbody>\n",
       "    <tr>\n",
       "      <th>0</th>\n",
       "      <td>0</td>\n",
       "      <td>bonjour,  je m suis trompé de forum pour ma qu...</td>\n",
       "      <td>28</td>\n",
       "    </tr>\n",
       "    <tr>\n",
       "      <th>2</th>\n",
       "      <td>2</td>\n",
       "      <td>mon médecin m'a prescrit adenyl. au 2ème cache...</td>\n",
       "      <td>28</td>\n",
       "    </tr>\n",
       "    <tr>\n",
       "      <th>7</th>\n",
       "      <td>7</td>\n",
       "      <td>je suis sous mercilon. J'ai des nausées et des...</td>\n",
       "      <td>28</td>\n",
       "    </tr>\n",
       "    <tr>\n",
       "      <th>12</th>\n",
       "      <td>12</td>\n",
       "      <td>je suis sous antiobiotique depuis bientot une ...</td>\n",
       "      <td>28</td>\n",
       "    </tr>\n",
       "    <tr>\n",
       "      <th>14</th>\n",
       "      <td>14</td>\n",
       "      <td>épilepsie et havlane ?</td>\n",
       "      <td>28</td>\n",
       "    </tr>\n",
       "    <tr>\n",
       "      <th>...</th>\n",
       "      <td>...</td>\n",
       "      <td>...</td>\n",
       "      <td>...</td>\n",
       "    </tr>\n",
       "    <tr>\n",
       "      <th>8003</th>\n",
       "      <td>8003</td>\n",
       "      <td>bonjour,  je voudrais savoir si le stablon et ...</td>\n",
       "      <td>28</td>\n",
       "    </tr>\n",
       "    <tr>\n",
       "      <th>8004</th>\n",
       "      <td>8004</td>\n",
       "      <td>je dois utiliser kétoderm 2% gel 2 fois par se...</td>\n",
       "      <td>28</td>\n",
       "    </tr>\n",
       "    <tr>\n",
       "      <th>8020</th>\n",
       "      <td>8020</td>\n",
       "      <td>asthme du au sirop stodal?</td>\n",
       "      <td>28</td>\n",
       "    </tr>\n",
       "    <tr>\n",
       "      <th>8021</th>\n",
       "      <td>8021</td>\n",
       "      <td>est ce que le temesta pousse au suicide ?</td>\n",
       "      <td>28</td>\n",
       "    </tr>\n",
       "    <tr>\n",
       "      <th>8022</th>\n",
       "      <td>8022</td>\n",
       "      <td>minidril et libido ?</td>\n",
       "      <td>28</td>\n",
       "    </tr>\n",
       "  </tbody>\n",
       "</table>\n",
       "<p>1796 rows × 3 columns</p>\n",
       "</div>"
      ],
      "text/plain": [
       "        ID                                           question  intention\n",
       "0        0  bonjour,  je m suis trompé de forum pour ma qu...         28\n",
       "2        2  mon médecin m'a prescrit adenyl. au 2ème cache...         28\n",
       "7        7  je suis sous mercilon. J'ai des nausées et des...         28\n",
       "12      12  je suis sous antiobiotique depuis bientot une ...         28\n",
       "14      14                             épilepsie et havlane ?         28\n",
       "...    ...                                                ...        ...\n",
       "8003  8003  bonjour,  je voudrais savoir si le stablon et ...         28\n",
       "8004  8004  je dois utiliser kétoderm 2% gel 2 fois par se...         28\n",
       "8020  8020                         asthme du au sirop stodal?         28\n",
       "8021  8021          est ce que le temesta pousse au suicide ?         28\n",
       "8022  8022                               minidril et libido ?         28\n",
       "\n",
       "[1796 rows x 3 columns]"
      ]
     },
     "execution_count": 45,
     "metadata": {},
     "output_type": "execute_result"
    }
   ],
   "source": [
    "ligne_intentions_28"
   ]
  },
  {
   "cell_type": "markdown",
   "metadata": {},
   "source": [
    "##### Partie modélisation"
   ]
  },
  {
   "cell_type": "code",
   "execution_count": 46,
   "metadata": {},
   "outputs": [
    {
     "name": "stdout",
     "output_type": "stream",
     "text": [
      "Accuracy: 77.10%\n"
     ]
    }
   ],
   "source": [
    "from sklearn.svm import SVC\n",
    "\n",
    "\n",
    "counter = Counter(data['intention'].tolist())\n",
    "top_10_varieties = {i[0]: idx for idx, i in enumerate(counter.most_common(10))}\n",
    "data = data[data['intention'].map(lambda x: x in top_10_varieties)]\n",
    "\n",
    "description_list = data['question'].tolist()\n",
    "varietal_list = [top_10_varieties[i] for i in data['intention'].tolist()]\n",
    "varietal_list = np.array(varietal_list)\n",
    "\n",
    "count_vect = CountVectorizer()\n",
    "x_train_counts = count_vect.fit_transform(description_list)\n",
    "\n",
    "\n",
    "tfidf_transformer = TfidfTransformer()\n",
    "x_train_tfidf = tfidf_transformer.fit_transform(x_train_counts)\n",
    "\n",
    "train_x, test_x, train_y, test_y = train_test_split(x_train_tfidf, varietal_list, test_size=0.3)\n",
    "\n",
    "clf = SVC(kernel='linear').fit(train_x, train_y)\n",
    "y_score = clf.predict(test_x)\n",
    "\n",
    "n_right = 0\n",
    "for i in range(len(y_score)):\n",
    "    if y_score[i] == test_y[i]:\n",
    "        n_right += 1\n",
    "\n",
    "print(\"Accuracy: %.2f%%\" % ((n_right/float(len(test_y)) * 100)))"
   ]
  },
  {
   "cell_type": "code",
   "execution_count": 47,
   "metadata": {},
   "outputs": [],
   "source": [
    "x_test_counts = count_vect.transform(x_test['question'].tolist())\n",
    "x_test_tfidf = tfidf_transformer.transform(x_test_counts)\n",
    "\n",
    "# Predict labels for x_test\n",
    "y_test_score = clf.predict(x_test_tfidf)\n",
    "\n",
    "# Now you have the predicted labels for x_test, you can do whatever you want with them\n",
    "# For example, you can add the predicted labels to x_test DataFrame\n",
    "x_test['predicted_intention'] = [list(top_10_varieties.keys())[i] for i in y_test_score]\n",
    "\n"
   ]
  },
  {
   "cell_type": "code",
   "execution_count": 48,
   "metadata": {},
   "outputs": [
    {
     "data": {
      "text/html": [
       "<div>\n",
       "<style scoped>\n",
       "    .dataframe tbody tr th:only-of-type {\n",
       "        vertical-align: middle;\n",
       "    }\n",
       "\n",
       "    .dataframe tbody tr th {\n",
       "        vertical-align: top;\n",
       "    }\n",
       "\n",
       "    .dataframe thead th {\n",
       "        text-align: right;\n",
       "    }\n",
       "</style>\n",
       "<table border=\"1\" class=\"dataframe\">\n",
       "  <thead>\n",
       "    <tr style=\"text-align: right;\">\n",
       "      <th></th>\n",
       "      <th>ID</th>\n",
       "      <th>question</th>\n",
       "      <th>predicted_intention</th>\n",
       "    </tr>\n",
       "  </thead>\n",
       "  <tbody>\n",
       "    <tr>\n",
       "      <th>0</th>\n",
       "      <td>8028</td>\n",
       "      <td>autisme-homéopathie-antidote vaccins ??</td>\n",
       "      <td>32</td>\n",
       "    </tr>\n",
       "    <tr>\n",
       "      <th>1</th>\n",
       "      <td>8029</td>\n",
       "      <td>Quel topique appliquer pour dermatite atopique...</td>\n",
       "      <td>32</td>\n",
       "    </tr>\n",
       "    <tr>\n",
       "      <th>2</th>\n",
       "      <td>8030</td>\n",
       "      <td>traitement kystes avec diane 35?</td>\n",
       "      <td>28</td>\n",
       "    </tr>\n",
       "    <tr>\n",
       "      <th>3</th>\n",
       "      <td>8031</td>\n",
       "      <td>je souffre d'insuffisance veineuse (acrocyanos...</td>\n",
       "      <td>28</td>\n",
       "    </tr>\n",
       "    <tr>\n",
       "      <th>4</th>\n",
       "      <td>8032</td>\n",
       "      <td>je suis enceinte depuis 1 mois, est ce que les...</td>\n",
       "      <td>44</td>\n",
       "    </tr>\n",
       "    <tr>\n",
       "      <th>...</th>\n",
       "      <td>...</td>\n",
       "      <td>...</td>\n",
       "      <td>...</td>\n",
       "    </tr>\n",
       "    <tr>\n",
       "      <th>2030</th>\n",
       "      <td>10058</td>\n",
       "      <td>La pivalone est elle uttilisable chez la femme...</td>\n",
       "      <td>44</td>\n",
       "    </tr>\n",
       "    <tr>\n",
       "      <th>2031</th>\n",
       "      <td>10059</td>\n",
       "      <td>je suis sous traitement depakote 750 depuis pl...</td>\n",
       "      <td>28</td>\n",
       "    </tr>\n",
       "    <tr>\n",
       "      <th>2032</th>\n",
       "      <td>10060</td>\n",
       "      <td>est ce que c'est normal d'avoir des règles peu...</td>\n",
       "      <td>28</td>\n",
       "    </tr>\n",
       "    <tr>\n",
       "      <th>2033</th>\n",
       "      <td>10061</td>\n",
       "      <td>j'ai été vacciné par l'hépatite b (2 injection...</td>\n",
       "      <td>14</td>\n",
       "    </tr>\n",
       "    <tr>\n",
       "      <th>2034</th>\n",
       "      <td>10062</td>\n",
       "      <td>prozac et xanax..??</td>\n",
       "      <td>28</td>\n",
       "    </tr>\n",
       "  </tbody>\n",
       "</table>\n",
       "<p>2035 rows × 3 columns</p>\n",
       "</div>"
      ],
      "text/plain": [
       "         ID                                           question  \\\n",
       "0      8028            autisme-homéopathie-antidote vaccins ??   \n",
       "1      8029  Quel topique appliquer pour dermatite atopique...   \n",
       "2      8030                   traitement kystes avec diane 35?   \n",
       "3      8031  je souffre d'insuffisance veineuse (acrocyanos...   \n",
       "4      8032  je suis enceinte depuis 1 mois, est ce que les...   \n",
       "...     ...                                                ...   \n",
       "2030  10058  La pivalone est elle uttilisable chez la femme...   \n",
       "2031  10059  je suis sous traitement depakote 750 depuis pl...   \n",
       "2032  10060  est ce que c'est normal d'avoir des règles peu...   \n",
       "2033  10061  j'ai été vacciné par l'hépatite b (2 injection...   \n",
       "2034  10062                                prozac et xanax..??   \n",
       "\n",
       "      predicted_intention  \n",
       "0                      32  \n",
       "1                      32  \n",
       "2                      28  \n",
       "3                      28  \n",
       "4                      44  \n",
       "...                   ...  \n",
       "2030                   44  \n",
       "2031                   28  \n",
       "2032                   28  \n",
       "2033                   14  \n",
       "2034                   28  \n",
       "\n",
       "[2035 rows x 3 columns]"
      ]
     },
     "execution_count": 48,
     "metadata": {},
     "output_type": "execute_result"
    }
   ],
   "source": [
    "x_test"
   ]
  },
  {
   "cell_type": "code",
   "execution_count": 49,
   "metadata": {},
   "outputs": [
    {
     "data": {
      "text/plain": [
       "(2035, 3)"
      ]
     },
     "execution_count": 49,
     "metadata": {},
     "output_type": "execute_result"
    }
   ],
   "source": [
    "x_test.shape"
   ]
  },
  {
   "cell_type": "code",
   "execution_count": 50,
   "metadata": {},
   "outputs": [],
   "source": [
    "output_test = x_test[[\"ID\", \"predicted_intention\"]]"
   ]
  },
  {
   "cell_type": "code",
   "execution_count": 51,
   "metadata": {},
   "outputs": [
    {
     "data": {
      "text/html": [
       "<div>\n",
       "<style scoped>\n",
       "    .dataframe tbody tr th:only-of-type {\n",
       "        vertical-align: middle;\n",
       "    }\n",
       "\n",
       "    .dataframe tbody tr th {\n",
       "        vertical-align: top;\n",
       "    }\n",
       "\n",
       "    .dataframe thead th {\n",
       "        text-align: right;\n",
       "    }\n",
       "</style>\n",
       "<table border=\"1\" class=\"dataframe\">\n",
       "  <thead>\n",
       "    <tr style=\"text-align: right;\">\n",
       "      <th></th>\n",
       "      <th>ID</th>\n",
       "      <th>predicted_intention</th>\n",
       "    </tr>\n",
       "  </thead>\n",
       "  <tbody>\n",
       "    <tr>\n",
       "      <th>0</th>\n",
       "      <td>8028</td>\n",
       "      <td>32</td>\n",
       "    </tr>\n",
       "    <tr>\n",
       "      <th>1</th>\n",
       "      <td>8029</td>\n",
       "      <td>32</td>\n",
       "    </tr>\n",
       "    <tr>\n",
       "      <th>2</th>\n",
       "      <td>8030</td>\n",
       "      <td>28</td>\n",
       "    </tr>\n",
       "    <tr>\n",
       "      <th>3</th>\n",
       "      <td>8031</td>\n",
       "      <td>28</td>\n",
       "    </tr>\n",
       "    <tr>\n",
       "      <th>4</th>\n",
       "      <td>8032</td>\n",
       "      <td>44</td>\n",
       "    </tr>\n",
       "    <tr>\n",
       "      <th>...</th>\n",
       "      <td>...</td>\n",
       "      <td>...</td>\n",
       "    </tr>\n",
       "    <tr>\n",
       "      <th>2030</th>\n",
       "      <td>10058</td>\n",
       "      <td>44</td>\n",
       "    </tr>\n",
       "    <tr>\n",
       "      <th>2031</th>\n",
       "      <td>10059</td>\n",
       "      <td>28</td>\n",
       "    </tr>\n",
       "    <tr>\n",
       "      <th>2032</th>\n",
       "      <td>10060</td>\n",
       "      <td>28</td>\n",
       "    </tr>\n",
       "    <tr>\n",
       "      <th>2033</th>\n",
       "      <td>10061</td>\n",
       "      <td>14</td>\n",
       "    </tr>\n",
       "    <tr>\n",
       "      <th>2034</th>\n",
       "      <td>10062</td>\n",
       "      <td>28</td>\n",
       "    </tr>\n",
       "  </tbody>\n",
       "</table>\n",
       "<p>2035 rows × 2 columns</p>\n",
       "</div>"
      ],
      "text/plain": [
       "         ID  predicted_intention\n",
       "0      8028                   32\n",
       "1      8029                   32\n",
       "2      8030                   28\n",
       "3      8031                   28\n",
       "4      8032                   44\n",
       "...     ...                  ...\n",
       "2030  10058                   44\n",
       "2031  10059                   28\n",
       "2032  10060                   28\n",
       "2033  10061                   14\n",
       "2034  10062                   28\n",
       "\n",
       "[2035 rows x 2 columns]"
      ]
     },
     "execution_count": 51,
     "metadata": {},
     "output_type": "execute_result"
    }
   ],
   "source": [
    "output_test"
   ]
  },
  {
   "cell_type": "code",
   "execution_count": 52,
   "metadata": {},
   "outputs": [],
   "source": [
    "output_test.to_csv(\"submission.csv\", index=False)"
   ]
  },
  {
   "cell_type": "code",
   "execution_count": null,
   "metadata": {},
   "outputs": [],
   "source": []
  }
 ],
 "metadata": {
  "kernelspec": {
   "display_name": "venv",
   "language": "python",
   "name": "python3"
  },
  "language_info": {
   "codemirror_mode": {
    "name": "ipython",
    "version": 3
   },
   "file_extension": ".py",
   "mimetype": "text/x-python",
   "name": "python",
   "nbconvert_exporter": "python",
   "pygments_lexer": "ipython3",
   "version": "3.10.11"
  }
 },
 "nbformat": 4,
 "nbformat_minor": 2
}
